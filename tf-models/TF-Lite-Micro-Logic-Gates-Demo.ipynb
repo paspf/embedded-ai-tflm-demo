{
 "cells": [
  {
   "cell_type": "markdown",
   "id": "f820483b-d65a-4973-bbd9-da1eac848096",
   "metadata": {},
   "source": [
    "# Create TF Lite for Microcontrollers Model\n",
    "Run this notebook after executing TF-Logic-Gates-Demo.json.\n",
    "\n",
    "To convert a TF Model to a TFLM model the following steps are required:\n",
    " - Convert TF model to TFLite model\n",
    " - Convert TFLite model to TFLM model\n",
    "\n",
    "\n",
    "For more detail on TensorFlow Lite for Microcontrollers see:\n",
    " - https://www.tensorflow.org/lite/microcontrollers\n",
    " - https://www.tensorflow.org/lite/models/convert/convert_models\n",
    " - https://www.tensorflow.org/lite/models/convert/\n",
    " - https://www.tensorflow.org/lite/microcontrollers/build_convert\n",
    " - https://www.digikey.com/en/maker/projects/intro-to-tinyml-part-1-training-a-model-for-arduino-in-tensorflow/8f1fc8c0b83d417ab521c48864d2a8ec\n",
    " - https://www.digikey.com/en/maker/projects/intro-to-tinyml-part-2-deploying-a-tensorflow-lite-model-to-arduino/59bf2d67256f4b40900a3fa670c14330\n",
    " - https://github.com/tensorflow/tflite-micro/blob/main/tensorflow/lite/micro/docs/new_platform_support.md"
   ]
  },
  {
   "cell_type": "code",
   "execution_count": 1,
   "id": "7ac4a1e4-9523-430e-b835-c96ca58c9194",
   "metadata": {},
   "outputs": [],
   "source": [
    "import tensorflow as tf\n",
    "from pathlib import Path"
   ]
  },
  {
   "cell_type": "markdown",
   "id": "72b6b240-d158-4560-aa51-3342e4612faa",
   "metadata": {},
   "source": [
    "All available models:"
   ]
  },
  {
   "cell_type": "code",
   "execution_count": 2,
   "id": "be721e24-7941-4391-942f-3acf39797a47",
   "metadata": {},
   "outputs": [],
   "source": [
    "models = [\"and-gate\", \"nor-gate\", \"or-gate\", \"xor-gate\", \"xnor-gate\"]"
   ]
  },
  {
   "cell_type": "markdown",
   "id": "9e2e74a8-a255-4ccd-a252-4df3d1b888b2",
   "metadata": {},
   "source": [
    "Configuration"
   ]
  },
  {
   "cell_type": "code",
   "execution_count": 3,
   "id": "ce98d5a0-73b2-49fc-87c0-d39faf7dee9b",
   "metadata": {},
   "outputs": [],
   "source": [
    "dataset = tf.constant([[0,0], [0,1], [1,0], [1,1]], dtype=tf.float32)\n",
    "output_dir = Path(\"TFLM-models\")"
   ]
  },
  {
   "cell_type": "markdown",
   "id": "50544cb1-fada-4cf5-8c1e-97d871ea7c88",
   "metadata": {},
   "source": [
    "## Helper functions\n",
    "### Create representative dataset as signature"
   ]
  },
  {
   "cell_type": "code",
   "execution_count": 4,
   "id": "fc66d392-e1e8-4120-bdac-b89eb424f390",
   "metadata": {},
   "outputs": [],
   "source": [
    "def representative_dataset():\n",
    "  for data in dataset:\n",
    "    yield {\n",
    "        \"input_1\": data,\n",
    "        \"input_2\": data,\n",
    "        \"input_3\": data,\n",
    "        \"input_4\": data,\n",
    "        \"input_5\": data,\n",
    "    }"
   ]
  },
  {
   "cell_type": "markdown",
   "id": "b449840b-f28b-4369-b31f-617ecef76e59",
   "metadata": {},
   "source": [
    "### Covert Model to TensorFlow Lite Model"
   ]
  },
  {
   "cell_type": "code",
   "execution_count": 6,
   "id": "28ddf21f-b504-45d4-bb7b-7f86cceaccd2",
   "metadata": {},
   "outputs": [],
   "source": [
    "def convert_tf_to_tfLite(tf_model_name):\n",
    "    # Convert the model\n",
    "    converter = tf.lite.TFLiteConverter.from_saved_model(tf_model_name) # path to the SavedModel directory\n",
    "    tflite_model = converter.convert()\n",
    "    \n",
    "    # Conversion Settings\n",
    "    converter.optimizations = [tf.lite.Optimize.DEFAULT]\n",
    "    converter.representative_dataset = representative_dataset\n",
    "    converter.target_spec.supported_ops = [tf.lite.OpsSet.TFLITE_BUILTINS_INT8]\n",
    "    converter.inference_input_type = tf.int8  # or tf.uint8\n",
    "    converter.inference_output_type = tf.int8  # or tf.uint8\n",
    "    return converter.convert()"
   ]
  },
  {
   "cell_type": "markdown",
   "id": "c10ff0ed-892c-4963-8124-6a5d675f5388",
   "metadata": {},
   "source": [
    "Store a TensorFlow Lite model"
   ]
  },
  {
   "cell_type": "code",
   "execution_count": 7,
   "id": "7f51c4d5-e6a8-4439-a1df-af885ab22a39",
   "metadata": {},
   "outputs": [],
   "source": [
    "def store_tfLite_model(tflite_model, model_name):\n",
    "    with open(model_name + '.tflite', 'wb') as f:\n",
    "        f.write(tflite_model)"
   ]
  },
  {
   "cell_type": "markdown",
   "id": "3147d1bc-7ca7-4c7e-98ef-82ab2d5408e8",
   "metadata": {},
   "source": [
    "### Translate TensorFlow Lite model to TensorFlow Lite for Microcontrollers Model\n",
    "\n",
    "Soruce: https://www.digikey.com/en/maker/projects/intro-to-tinyml-part-1-training-a-model-for-arduino-in-tensorflow/8f1fc8c0b83d417ab521c48864d2a8ec"
   ]
  },
  {
   "cell_type": "code",
   "execution_count": 8,
   "id": "df31ce4b-b3ab-488b-99a8-a0e4a04b9e39",
   "metadata": {},
   "outputs": [],
   "source": [
    "# Function: Convert some hex value into an array for C programming\n",
    "# soruce: https://www.digikey.com/en/maker/projects/\n",
    "# intro-to-tinyml-part-1-training-a-model-for-arduino-in-tensorflow/8f1fc8c0b83d417ab521c48864d2a8ec\n",
    "def hex_to_c_array(hex_data, var_name):\n",
    "  c_str = ''\n",
    "\n",
    "  # Create header guard\n",
    "  c_str += '#ifndef ' + var_name.upper() + '_H\\n'\n",
    "  c_str += '#define ' + var_name.upper() + '_H\\n\\n'\n",
    "\n",
    "  # Add array length at top of file\n",
    "  c_str += '\\nunsigned int ' + var_name + '_len = ' + str(len(hex_data)) + ';\\n'\n",
    "\n",
    "  # Declare C variable\n",
    "  c_str += 'unsigned char ' + var_name + '[] = {'\n",
    "  hex_array = []\n",
    "  for i, val in enumerate(hex_data) :\n",
    "\n",
    "    # Construct string from hex\n",
    "    hex_str = format(val, '#04x')\n",
    "\n",
    "    # Add formatting so each line stays within 80 characters\n",
    "    if (i + 1) < len(hex_data):\n",
    "      hex_str += ','\n",
    "    if (i + 1) % 12 == 0:\n",
    "      hex_str += '\\n '\n",
    "    hex_array.append(hex_str)\n",
    "\n",
    "  # Add closing brace\n",
    "  c_str += '\\n ' + format(' '.join(hex_array)) + '\\n};\\n\\n'\n",
    "\n",
    "  # Close out header guard\n",
    "  c_str += '#endif //' + var_name.upper() + '_H'\n",
    "\n",
    "  return c_str"
   ]
  },
  {
   "cell_type": "code",
   "execution_count": 9,
   "id": "42121dd4-c309-484d-b6de-06bc40dc4be7",
   "metadata": {},
   "outputs": [],
   "source": [
    "def convert_tfLite_to_TFLM(model, model_name):    \n",
    "    # Create output directory (if not exist)\n",
    "    Path(output_dir).mkdir(parents=True, exist_ok=True)\n",
    "    # Write TFLite model to a C source (or header) file\n",
    "    with open(output_dir / Path(model_name + '.h'), 'w') as file:\n",
    "      file.write(hex_to_c_array(model, model_name))"
   ]
  },
  {
   "cell_type": "markdown",
   "id": "a0fb1559-6082-401e-86ee-d9671da249c3",
   "metadata": {
    "tags": []
   },
   "source": [
    "## Convert all Models from TF to TFLM"
   ]
  },
  {
   "cell_type": "code",
   "execution_count": 10,
   "id": "bfe2fb94-1ee6-4235-8180-3fbde7e78f37",
   "metadata": {},
   "outputs": [],
   "source": [
    "def convert_tf_to_TFLM(tf_model_name):\n",
    "    tfLite_model = convert_tf_to_tfLite(tf_model_name)\n",
    "    store_tfLite_model(tfLite_model, tf_model_name)\n",
    "    convert_tfLite_to_TFLM(tfLite_model, tf_model_name)"
   ]
  },
  {
   "cell_type": "code",
   "execution_count": 11,
   "id": "282b9483-1b10-4e99-bd7f-6fe9cf7ba48e",
   "metadata": {},
   "outputs": [],
   "source": [
    "for m in models:\n",
    "    convert_tf_to_TFLM(m)"
   ]
  },
  {
   "cell_type": "markdown",
   "id": "e440fbfa-3524-433e-a094-65ebd1304520",
   "metadata": {},
   "source": [
    "# Next steps on running TFLM\n",
    " - Only working on linux:\n",
    "     - Clone TFLM git https://github.com/tensorflow/tflite-micro\n",
    "     - Generate TFLM by following instructions: https://github.com/tensorflow/tflite-micro/blob/main/tensorflow/lite/micro/docs/new_platform_support.md\n"
   ]
  },
  {
   "cell_type": "code",
   "execution_count": null,
   "id": "3fb8a944-99bc-4562-9c43-50b7358c7056",
   "metadata": {},
   "outputs": [],
   "source": []
  }
 ],
 "metadata": {
  "kernelspec": {
   "display_name": "Python 3 (ipykernel)",
   "language": "python",
   "name": "python3"
  },
  "language_info": {
   "codemirror_mode": {
    "name": "ipython",
    "version": 3
   },
   "file_extension": ".py",
   "mimetype": "text/x-python",
   "name": "python",
   "nbconvert_exporter": "python",
   "pygments_lexer": "ipython3",
   "version": "3.10.9"
  }
 },
 "nbformat": 4,
 "nbformat_minor": 5
}
