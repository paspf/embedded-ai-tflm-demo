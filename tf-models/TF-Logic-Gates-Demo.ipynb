{
 "cells": [
  {
   "cell_type": "markdown",
   "id": "e1e0d977-d1ac-4cf5-900c-fc10eeb21906",
   "metadata": {},
   "source": [
    "# TF Logical Gates Demo\n",
    "Train overfitted networks for logical gates (AND, NOR, OR, XOR. XNOR)."
   ]
  },
  {
   "cell_type": "code",
   "execution_count": 1,
   "id": "28f62c9e-ea96-4899-9193-ea92b1fabe54",
   "metadata": {},
   "outputs": [
    {
     "data": {
      "text/plain": [
       "'2.11.0'"
      ]
     },
     "execution_count": 1,
     "metadata": {},
     "output_type": "execute_result"
    }
   ],
   "source": [
    "import tensorflow as tf\n",
    "from tensorflow import keras\n",
    "from tensorflow.keras import layers\n",
    "\n",
    "tf.__version__"
   ]
  },
  {
   "cell_type": "markdown",
   "id": "688238e9-9b1d-4d48-9088-ca13dbe9091d",
   "metadata": {},
   "source": [
    "### Training data"
   ]
  },
  {
   "cell_type": "code",
   "execution_count": 2,
   "id": "085d99f3-b638-4ff5-80db-85589e7f4fa8",
   "metadata": {},
   "outputs": [],
   "source": [
    "# All possible x-input combinations.\n",
    "x_train = tf.constant([[0,0], [0,1], [1,0], [1,1]], dtype=tf.float32)\n",
    "\n",
    "# y-outputs for some gates.\n",
    "y_and  = tf.constant([[0],[0],[0],[1]], dtype=tf.float32)\n",
    "y_nor  = tf.constant([[1],[1],[1],[0]], dtype=tf.float32)\n",
    "y_or   = tf.constant([[0],[1],[1],[1]], dtype=tf.float32)\n",
    "y_xor  = tf.constant([[0],[1],[1],[0]], dtype=tf.float32)\n",
    "y_xnor = tf.constant([[1],[0],[0],[1]], dtype=tf.float32)\n",
    "\n",
    "input_shape = 2\n",
    "num_classes = 2;"
   ]
  },
  {
   "cell_type": "markdown",
   "id": "9930d5ba-61b6-4a38-8319-57524436fb14",
   "metadata": {},
   "source": [
    "### Helper functions"
   ]
  },
  {
   "cell_type": "code",
   "execution_count": 3,
   "id": "be985148-a357-49b6-9e99-53fe0490ab5e",
   "metadata": {},
   "outputs": [],
   "source": [
    "def predict_element(model, x_element, y_ref_element):\n",
    "    x_element = tf.expand_dims(x_element, 0)\n",
    "    pred = model.predict(x_element, verbose=0)\n",
    "    # Determine zero or 1.\n",
    "    if pred < 0.5:\n",
    "        pred = 0\n",
    "    else:\n",
    "        pred = 1\n",
    "    # Match with reference.\n",
    "    ret = True\n",
    "    if pred != y_ref_element:\n",
    "        ret = False\n",
    "    print(f\"|{x_element[0]}|{y_ref_element}| -> {pred} -> {ret}\")\n",
    "    return ret"
   ]
  },
  {
   "cell_type": "code",
   "execution_count": 4,
   "id": "e1d08c96-97e3-45d7-8a32-59ffccdea7bd",
   "metadata": {},
   "outputs": [],
   "source": [
    "def predict_gate(model, x_gate, y_gate):\n",
    "    pred_ok = 0\n",
    "    for x_in,y_ref in zip(x_gate, y_gate):\n",
    "        pred = predict_element(model, x_in, y_ref)\n",
    "        if pred == True:\n",
    "            pred_ok += 1\n",
    "    print(f\"----> {(pred_ok/len(x_gate))*100}%\")"
   ]
  },
  {
   "cell_type": "code",
   "execution_count": 5,
   "id": "15f562f4-559a-47cb-a627-b7acd6644547",
   "metadata": {},
   "outputs": [],
   "source": [
    "def save_tf_model(model, name, save_format=\"tf\"):\n",
    "    if save_format == \"tf\" or save_format == \"all\":\n",
    "        # Save model in TensorFlow SavedModel format\n",
    "        model.save(f'{name}')\n",
    "    \n",
    "    elif save_format == \"h5\" or save_format == \"all\":\n",
    "        # Save model and weights in h5 format.\n",
    "        model.save(f'{name}.h5', save_format='h5')\n",
    "    \n",
    "    elif save_format == \"h5_weights\" or save_format == \"all\":\n",
    "        # Save weights only in h5 format.\n",
    "        model.save_weights(f'{name}_weights.h5')\n",
    "    elif save_format == \"json\" or save_format == \"all\":\n",
    "        # Save model architecture as json\n",
    "        json = model.to_json()\n",
    "        json_file = open(f\"{name}_architecture.json\", \"w\")\n",
    "        json_file.write(json)\n",
    "        json_file.close()\n",
    "    else:\n",
    "        raise \"Unsupported save_format!\"\n"
   ]
  },
  {
   "cell_type": "markdown",
   "id": "62830c58-9c94-46c0-ae6c-be2f9edf6a9d",
   "metadata": {},
   "source": [
    "### Build model"
   ]
  },
  {
   "cell_type": "code",
   "execution_count": 6,
   "id": "47c591b7-bb2e-407f-a983-a69ba9b00023",
   "metadata": {},
   "outputs": [],
   "source": [
    "def build_tf_model(input_shape):\n",
    "    model = keras.Sequential()\n",
    "    model.add(keras.layers.Input(shape=input_shape))\n",
    "    model.add(keras.layers.Dense(4, activation='sigmoid'))\n",
    "    model.add(keras.layers.Dense(1, activation='sigmoid'))\n",
    "    return model"
   ]
  },
  {
   "cell_type": "markdown",
   "id": "7f8e64fd-467e-4689-97c5-9a55d0b11b7c",
   "metadata": {},
   "source": [
    "### Train a model"
   ]
  },
  {
   "cell_type": "code",
   "execution_count": 7,
   "id": "c70b834f-ed22-4561-b7da-3ca1bc90773b",
   "metadata": {},
   "outputs": [],
   "source": [
    "def build_and_train_tf_model(x_gate, y_gate, name, additional_prints=False, epochs=5000, save_model=False):\n",
    "    print(f\"Training {name}...\")\n",
    "    \n",
    "    # Build model.\n",
    "    input_shape = len(x_gate[0])\n",
    "    model = build_tf_model(input_shape)\n",
    "    \n",
    "    if additional_prints:\n",
    "        model.summary()\n",
    "    \n",
    "    # Compile and train model.\n",
    "    model.compile(loss=\"mean_squared_error\", optimizer=\"adam\", metrics=[\"accuracy\"])\n",
    "    model.fit(x_gate, y_gate, batch_size=1, epochs=epochs, verbose=0)\n",
    "    \n",
    "    # TF standard evaluate.\n",
    "    if additional_prints:\n",
    "        print(\"TF evaluate model\")\n",
    "        results = model.evaluate(x_gate, y_gate, batch_size=1)\n",
    "        print(\"test loss, test acc:\", results)\n",
    "    \n",
    "    # Custom evaluate.\n",
    "    predict_gate(model, x_gate, y_gate)\n",
    "    \n",
    "    if save_model:\n",
    "        save_tf_model(model, name)\n",
    "    \n",
    "    return model\n"
   ]
  },
  {
   "cell_type": "markdown",
   "id": "af375d5e-1714-4974-846a-13cde4210d96",
   "metadata": {},
   "source": [
    "### Train and verify models"
   ]
  },
  {
   "cell_type": "code",
   "execution_count": 8,
   "id": "e045c80d-55d6-4841-9bd8-6f76b65242c7",
   "metadata": {},
   "outputs": [
    {
     "name": "stdout",
     "output_type": "stream",
     "text": [
      "Training and-gate...\n",
      "|[0. 0.]|[0.]| -> 0 -> True\n",
      "|[0. 1.]|[0.]| -> 0 -> True\n",
      "|[1. 0.]|[0.]| -> 0 -> True\n",
      "|[1. 1.]|[1.]| -> 1 -> True\n",
      "----> 100.0%\n"
     ]
    },
    {
     "name": "stderr",
     "output_type": "stream",
     "text": [
      "WARNING:absl:Found untraced functions such as _update_step_xla while saving (showing 1 of 1). These functions will not be directly callable after loading.\n"
     ]
    },
    {
     "name": "stdout",
     "output_type": "stream",
     "text": [
      "INFO:tensorflow:Assets written to: and-gate\\assets\n"
     ]
    },
    {
     "name": "stderr",
     "output_type": "stream",
     "text": [
      "INFO:tensorflow:Assets written to: and-gate\\assets\n"
     ]
    },
    {
     "name": "stdout",
     "output_type": "stream",
     "text": [
      "Training nor-gate...\n",
      "|[0. 0.]|[1.]| -> 1 -> True\n",
      "|[0. 1.]|[1.]| -> 1 -> True\n",
      "|[1. 0.]|[1.]| -> 1 -> True\n",
      "|[1. 1.]|[0.]| -> 0 -> True\n",
      "----> 100.0%\n"
     ]
    },
    {
     "name": "stderr",
     "output_type": "stream",
     "text": [
      "WARNING:absl:Found untraced functions such as _update_step_xla while saving (showing 1 of 1). These functions will not be directly callable after loading.\n"
     ]
    },
    {
     "name": "stdout",
     "output_type": "stream",
     "text": [
      "INFO:tensorflow:Assets written to: nor-gate\\assets\n"
     ]
    },
    {
     "name": "stderr",
     "output_type": "stream",
     "text": [
      "INFO:tensorflow:Assets written to: nor-gate\\assets\n"
     ]
    },
    {
     "name": "stdout",
     "output_type": "stream",
     "text": [
      "Training or-gate...\n",
      "|[0. 0.]|[0.]| -> 0 -> True\n",
      "|[0. 1.]|[1.]| -> 1 -> True\n",
      "|[1. 0.]|[1.]| -> 1 -> True\n",
      "|[1. 1.]|[1.]| -> 1 -> True\n",
      "----> 100.0%\n"
     ]
    },
    {
     "name": "stderr",
     "output_type": "stream",
     "text": [
      "WARNING:absl:Found untraced functions such as _update_step_xla while saving (showing 1 of 1). These functions will not be directly callable after loading.\n"
     ]
    },
    {
     "name": "stdout",
     "output_type": "stream",
     "text": [
      "INFO:tensorflow:Assets written to: or-gate\\assets\n"
     ]
    },
    {
     "name": "stderr",
     "output_type": "stream",
     "text": [
      "INFO:tensorflow:Assets written to: or-gate\\assets\n"
     ]
    },
    {
     "name": "stdout",
     "output_type": "stream",
     "text": [
      "Training xor-gate...\n",
      "|[0. 0.]|[0.]| -> 0 -> True\n",
      "|[0. 1.]|[1.]| -> 1 -> True\n",
      "|[1. 0.]|[1.]| -> 1 -> True\n",
      "|[1. 1.]|[0.]| -> 0 -> True\n",
      "----> 100.0%\n"
     ]
    },
    {
     "name": "stderr",
     "output_type": "stream",
     "text": [
      "WARNING:absl:Found untraced functions such as _update_step_xla while saving (showing 1 of 1). These functions will not be directly callable after loading.\n"
     ]
    },
    {
     "name": "stdout",
     "output_type": "stream",
     "text": [
      "INFO:tensorflow:Assets written to: xor-gate\\assets\n"
     ]
    },
    {
     "name": "stderr",
     "output_type": "stream",
     "text": [
      "INFO:tensorflow:Assets written to: xor-gate\\assets\n"
     ]
    },
    {
     "name": "stdout",
     "output_type": "stream",
     "text": [
      "Training xnor-gate...\n",
      "|[0. 0.]|[1.]| -> 1 -> True\n",
      "|[0. 1.]|[0.]| -> 0 -> True\n",
      "|[1. 0.]|[0.]| -> 0 -> True\n",
      "|[1. 1.]|[1.]| -> 1 -> True\n",
      "----> 100.0%\n"
     ]
    },
    {
     "name": "stderr",
     "output_type": "stream",
     "text": [
      "WARNING:absl:Found untraced functions such as _update_step_xla while saving (showing 1 of 1). These functions will not be directly callable after loading.\n"
     ]
    },
    {
     "name": "stdout",
     "output_type": "stream",
     "text": [
      "INFO:tensorflow:Assets written to: xnor-gate\\assets\n"
     ]
    },
    {
     "name": "stderr",
     "output_type": "stream",
     "text": [
      "INFO:tensorflow:Assets written to: xnor-gate\\assets\n"
     ]
    },
    {
     "data": {
      "text/plain": [
       "<keras.engine.sequential.Sequential at 0x1a8d20000a0>"
      ]
     },
     "execution_count": 8,
     "metadata": {},
     "output_type": "execute_result"
    }
   ],
   "source": [
    "build_and_train_tf_model(x_train, y_and, \"and-gate\", save_model=True)\n",
    "build_and_train_tf_model(x_train, y_nor, \"nor-gate\", save_model=True)\n",
    "build_and_train_tf_model(x_train, y_or, \"or-gate\", save_model=True)\n",
    "build_and_train_tf_model(x_train, y_xor, \"xor-gate\", epochs=15000, save_model=True)\n",
    "build_and_train_tf_model(x_train, y_xnor, \"xnor-gate\", epochs=15000, save_model=True)"
   ]
  },
  {
   "cell_type": "code",
   "execution_count": null,
   "id": "7b0e6cc8-d848-4123-9179-faf6883f9934",
   "metadata": {},
   "outputs": [],
   "source": []
  }
 ],
 "metadata": {
  "kernelspec": {
   "display_name": "Python 3 (ipykernel)",
   "language": "python",
   "name": "python3"
  },
  "language_info": {
   "codemirror_mode": {
    "name": "ipython",
    "version": 3
   },
   "file_extension": ".py",
   "mimetype": "text/x-python",
   "name": "python",
   "nbconvert_exporter": "python",
   "pygments_lexer": "ipython3",
   "version": "3.10.8"
  }
 },
 "nbformat": 4,
 "nbformat_minor": 5
}
